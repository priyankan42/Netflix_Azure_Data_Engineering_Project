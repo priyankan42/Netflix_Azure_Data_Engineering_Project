{
 "cells": [
  {
   "cell_type": "markdown",
   "metadata": {
    "application/vnd.databricks.v1+cell": {
     "cellMetadata": {},
     "inputWidgets": {},
     "nuid": "32abfba9-9596-4b1d-acf8-14c2cace6483",
     "showTitle": false,
     "tableResultSettingsMap": {},
     "title": ""
    }
   },
   "source": [
    "DLT Notebook - GLOD LAYER"
   ]
  },
  {
   "cell_type": "code",
   "execution_count": 0,
   "metadata": {
    "application/vnd.databricks.v1+cell": {
     "cellMetadata": {},
     "inputWidgets": {},
     "nuid": "1f6d03f2-56d8-4e1b-a4fc-5d55b46a388d",
     "showTitle": false,
     "tableResultSettingsMap": {},
     "title": ""
    }
   },
   "outputs": [],
   "source": [
    "looktable_rules = {\n",
    "    'rule1' : 'showid is NOT NULL'\n",
    "}"
   ]
  },
  {
   "cell_type": "code",
   "execution_count": 0,
   "metadata": {
    "application/vnd.databricks.v1+cell": {
     "cellMetadata": {},
     "inputWidgets": {},
     "nuid": "c1278331-75b5-4e4b-95f7-cedcc3d2e9b1",
     "showTitle": false,
     "tableResultSettingsMap": {},
     "title": ""
    }
   },
   "outputs": [],
   "source": [
    "@dlt.table(\n",
    "    name='gold_netflixdirectors'\n",
    ")\n",
    "\n",
    "@dlt.expect_all_or_drop(looktable_rules)\n",
    "def myfun():\n",
    "  df = spark.readStream.format('delta').load('abfss://silver@netflixprojectdlpri.dfs.core.windows.net/netflix_directors')\n",
    "                        return df"
   ]
  },
  {
   "cell_type": "code",
   "execution_count": 0,
   "metadata": {
    "application/vnd.databricks.v1+cell": {
     "cellMetadata": {},
     "inputWidgets": {},
     "nuid": "d587559b-6305-4cde-9bec-62af1720b7d0",
     "showTitle": false,
     "tableResultSettingsMap": {},
     "title": ""
    }
   },
   "outputs": [],
   "source": [
    "@dlt.table(\n",
    "    name='gold_netflixcast'\n",
    ")\n",
    "\n",
    "@dlt.expect_all_or_drop(looktable_rules)\n",
    "def myfun():\n",
    "  df = spark.readStream.format('delta').load('abfss://silver@netflixprojectdlpri.dfs.core.windows.net/netflix_cast')\n",
    "                        return df"
   ]
  },
  {
   "cell_type": "code",
   "execution_count": 0,
   "metadata": {
    "application/vnd.databricks.v1+cell": {
     "cellMetadata": {},
     "inputWidgets": {},
     "nuid": "9cdcbff1-2fc5-4d41-8696-8e4c596b21d8",
     "showTitle": false,
     "tableResultSettingsMap": {},
     "title": ""
    }
   },
   "outputs": [],
   "source": [
    "@dlt.table(\n",
    "    name='gold_netflixcountries'\n",
    ")\n",
    "\n",
    "@dlt.expect_all_or_drop(looktable_rules)\n",
    "def myfun():\n",
    "  df = spark.readStream.format('delta').load('abfss://silver@netflixprojectdlpri.dfs.core.windows.net/netflix_countries')\n",
    "                        return df"
   ]
  },
  {
   "cell_type": "code",
   "execution_count": 0,
   "metadata": {
    "application/vnd.databricks.v1+cell": {
     "cellMetadata": {},
     "inputWidgets": {},
     "nuid": "c7a81d2a-b6ae-46a5-a77a-f2ab85aae14f",
     "showTitle": false,
     "tableResultSettingsMap": {},
     "title": ""
    }
   },
   "outputs": [],
   "source": [
    "@dlt.table(\n",
    "    name='gold_netflixcategory'\n",
    ")\n",
    "\n",
    "@dlt.expect_or_drop('rule1' : 'showid is NOT NULL')\n",
    "def myfun():\n",
    "  df = spark.readStream.format('delta').load('abfss://silver@netflixprojectdlpri.dfs.core.windows.net/netflix_category')\n",
    "                        return df"
   ]
  },
  {
   "cell_type": "code",
   "execution_count": 0,
   "metadata": {
    "application/vnd.databricks.v1+cell": {
     "cellMetadata": {},
     "inputWidgets": {},
     "nuid": "507d72fc-5aa5-4fd9-ac8e-ca590a155ec1",
     "showTitle": false,
     "tableResultSettingsMap": {},
     "title": ""
    }
   },
   "outputs": [],
   "source": [
    "@dlt.table\n",
    "\n",
    "def gold_stg_netflixtitles:\n",
    "\n",
    "    df = spark.readStream.format('delta').load('abfss://silver@netflixprojectdlpri.dfs.core.windows.net/netflix_titles')\n",
    "    return df"
   ]
  },
  {
   "cell_type": "code",
   "execution_count": 0,
   "metadata": {
    "application/vnd.databricks.v1+cell": {
     "cellMetadata": {},
     "inputWidgets": {},
     "nuid": "0616e047-8690-442c-9989-7098e1661eb6",
     "showTitle": false,
     "tableResultSettingsMap": {},
     "title": ""
    }
   },
   "outputs": [],
   "source": [
    "from pyspark.sql.functions import *"
   ]
  },
  {
   "cell_type": "code",
   "execution_count": 0,
   "metadata": {
    "application/vnd.databricks.v1+cell": {
     "cellMetadata": {},
     "inputWidgets": {},
     "nuid": "e63fb064-b2d2-49e2-b738-5056f64496b4",
     "showTitle": false,
     "tableResultSettingsMap": {},
     "title": ""
    }
   },
   "outputs": [],
   "source": [
    "@dlt.view\n",
    "\n",
    "def gold_trns_netflixtitles:\n",
    "    df = spark.readStream.table('LIVE.gold_stg_netflixtitles')\n",
    "    df = df.withColumn('newflag',lit(1))\n",
    "    return df"
   ]
  },
  {
   "cell_type": "code",
   "execution_count": 0,
   "metadata": {
    "application/vnd.databricks.v1+cell": {
     "cellMetadata": {},
     "inputWidgets": {},
     "nuid": "c144f43f-7e02-4b06-afb2-77e6fd16582c",
     "showTitle": false,
     "tableResultSettingsMap": {},
     "title": ""
    }
   },
   "outputs": [],
   "source": [
    "masterdata_rules = {\n",
    "    \"rule1\" : \"newflag NOT NULL\"\n",
    "    \"rule2\" : \"showid NOT NULL\"\n",
    "}"
   ]
  },
  {
   "cell_type": "code",
   "execution_count": 0,
   "metadata": {
    "application/vnd.databricks.v1+cell": {
     "cellMetadata": {},
     "inputWidgets": {},
     "nuid": "e9859d18-bdcc-420d-be75-f26954d3f37a",
     "showTitle": false,
     "tableResultSettingsMap": {},
     "title": ""
    }
   },
   "outputs": [],
   "source": [
    "@dlt.table\n",
    "\n",
    "@dlt.expect_all_or_drop(masterdata_rules)\n",
    "def gold_netflixtitles():\n",
    "\n",
    "        df = spark.readStream.table('LIVE.gold_trns_netflixtitles')\n",
    "        return df"
   ]
  }
 ],
 "metadata": {
  "application/vnd.databricks.v1+notebook": {
   "computePreferences": null,
   "dashboards": [],
   "environmentMetadata": {
    "base_environment": "",
    "environment_version": "2"
   },
   "inputWidgetPreferences": null,
   "language": "python",
   "notebookMetadata": {
    "pythonIndentUnit": 4
   },
   "notebookName": "7_DLT_Notebook",
   "widgets": {}
  },
  "language_info": {
   "name": "python"
  }
 },
 "nbformat": 4,
 "nbformat_minor": 0
}